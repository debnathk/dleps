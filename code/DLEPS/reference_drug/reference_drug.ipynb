{
 "cells": [
  {
   "cell_type": "code",
   "execution_count": 4,
   "metadata": {},
   "outputs": [],
   "source": [
    "# drug information\n",
    "\n",
    "name = 'bicalutamide'\n",
    "smiles = 'CC(CS(=O)(=O)C1=CC=C(C=C1)F)(C(=O)NC2=CC(=C(C=C2)C#N)C(F)(F)F)O'"
   ]
  },
  {
   "cell_type": "markdown",
   "metadata": {},
   "source": [
    "## Calculate fingerprints from SMILES using PaDELPy package"
   ]
  },
  {
   "cell_type": "code",
   "execution_count": 9,
   "metadata": {},
   "outputs": [],
   "source": [
    "# Downloading the XML datafiles\n",
    "\n",
    "# %pip install padelpy\n",
    "# %pip install wget\n",
    "# import wget\n",
    "# import zipfile\n",
    "\n",
    "# wget.download('https://github.com/dataprofessor/padel/raw/main/fingerprints_xml.zip')\n",
    "# with zipfile.ZipFile('fingerprints_xml.zip', 'r') as zip_ref:\n",
    "#     zip_ref.extractall()"
   ]
  },
  {
   "cell_type": "code",
   "execution_count": 10,
   "metadata": {},
   "outputs": [
    {
     "data": {
      "text/plain": [
       "['AtomPairs2DFingerprintCount.xml',\n",
       " 'AtomPairs2DFingerprinter.xml',\n",
       " 'EStateFingerprinter.xml',\n",
       " 'ExtendedFingerprinter.xml',\n",
       " 'Fingerprinter.xml',\n",
       " 'GraphOnlyFingerprinter.xml',\n",
       " 'KlekotaRothFingerprintCount.xml',\n",
       " 'KlekotaRothFingerprinter.xml',\n",
       " 'MACCSFingerprinter.xml',\n",
       " 'PubchemFingerprinter.xml',\n",
       " 'SubstructureFingerprintCount.xml',\n",
       " 'SubstructureFingerprinter.xml']"
      ]
     },
     "execution_count": 10,
     "metadata": {},
     "output_type": "execute_result"
    }
   ],
   "source": [
    "# Listing and sorting the downloaded files\n",
    "import glob\n",
    "\n",
    "xml_files = glob.glob(\"*.xml\")\n",
    "xml_files.sort()\n",
    "xml_files"
   ]
  },
  {
   "cell_type": "code",
   "execution_count": 11,
   "metadata": {},
   "outputs": [],
   "source": [
    "# Creating a list of present files\n",
    "\n",
    "FP_list = ['AtomPairs2DCount',\n",
    " 'AtomPairs2D',\n",
    " 'EState',\n",
    " 'CDKextended',\n",
    " 'CDK',\n",
    " 'CDKgraphonly',\n",
    " 'KlekotaRothCount',\n",
    " 'KlekotaRoth',\n",
    " 'MACCS',\n",
    " 'PubChem',\n",
    " 'SubstructureCount',\n",
    " 'Substructure']"
   ]
  },
  {
   "cell_type": "code",
   "execution_count": 12,
   "metadata": {},
   "outputs": [
    {
     "data": {
      "text/plain": [
       "{'AtomPairs2DCount': 'AtomPairs2DFingerprintCount.xml',\n",
       " 'AtomPairs2D': 'AtomPairs2DFingerprinter.xml',\n",
       " 'EState': 'EStateFingerprinter.xml',\n",
       " 'CDKextended': 'ExtendedFingerprinter.xml',\n",
       " 'CDK': 'Fingerprinter.xml',\n",
       " 'CDKgraphonly': 'GraphOnlyFingerprinter.xml',\n",
       " 'KlekotaRothCount': 'KlekotaRothFingerprintCount.xml',\n",
       " 'KlekotaRoth': 'KlekotaRothFingerprinter.xml',\n",
       " 'MACCS': 'MACCSFingerprinter.xml',\n",
       " 'PubChem': 'PubchemFingerprinter.xml',\n",
       " 'SubstructureCount': 'SubstructureFingerprintCount.xml',\n",
       " 'Substructure': 'SubstructureFingerprinter.xml'}"
      ]
     },
     "execution_count": 12,
     "metadata": {},
     "output_type": "execute_result"
    }
   ],
   "source": [
    "# Creating a data dictionary\n",
    "fp = dict(zip(FP_list, xml_files))\n",
    "fp"
   ]
  }
 ],
 "metadata": {
  "kernelspec": {
   "display_name": "Python 3",
   "language": "python",
   "name": "python3"
  },
  "language_info": {
   "codemirror_mode": {
    "name": "ipython",
    "version": 3
   },
   "file_extension": ".py",
   "mimetype": "text/x-python",
   "name": "python",
   "nbconvert_exporter": "python",
   "pygments_lexer": "ipython3",
   "version": "3.7.16"
  }
 },
 "nbformat": 4,
 "nbformat_minor": 2
}
