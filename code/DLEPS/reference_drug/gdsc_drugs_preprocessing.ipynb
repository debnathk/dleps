{
 "cells": [
  {
   "cell_type": "markdown",
   "metadata": {},
   "source": [
    "# Steps\n",
    "- Extract drug names for prostate cancers - (TCGA_DESC = PRAD)\n",
    "- Filter extracted drugs based on IC50 value\n",
    "    - LN_IC50 <= 0\n",
    "- Extract unique list of drugs, if not already done\n",
    "- Find canonical SMILES of each drug from PubChem\n",
    "- Standardize canonical SMILES usinf rdkit\n",
    "- Export the processed file to reference_drug.ipynb notebook, follow the fingerprint construction pipeline."
   ]
  },
  {
   "cell_type": "code",
   "execution_count": null,
   "metadata": {},
   "outputs": [],
   "source": []
  }
 ],
 "metadata": {
  "language_info": {
   "name": "python"
  }
 },
 "nbformat": 4,
 "nbformat_minor": 2
}
