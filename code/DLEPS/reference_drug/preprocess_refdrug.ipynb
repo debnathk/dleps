{
 "cells": [
  {
   "cell_type": "code",
   "execution_count": 3,
   "metadata": {},
   "outputs": [],
   "source": [
    "import h5py\n",
    "import numpy as np\n",
    "from sklearn.feature_selection import VarianceThreshold\n",
    "\n",
    "root = 'C:/Users/debnathk/Desktop/study/DLEPS-main/code/DLEPS/dleps/code/DLEPS/reference_drug/'"
   ]
  },
  {
   "cell_type": "code",
   "execution_count": 4,
   "metadata": {},
   "outputs": [],
   "source": [
    "# Read datasets\n",
    "\n",
    "h5f = h5py.File(root + 'ssp_data_train.h5')\n",
    "ssp_train = h5f['data'][:]\n",
    "\n",
    "h5f = h5py.File(root + 'ssp_data_test.h5')\n",
    "ssp_test = h5f['data'][:]\n",
    "\n",
    "h5f = h5py.File(root + 'y_train.h5')\n",
    "y_train = h5f['data'][:]\n",
    "\n",
    "h5f = h5py.File(root + 'y_test.h5')\n",
    "y_test = h5f['data'][:]"
   ]
  },
  {
   "cell_type": "code",
   "execution_count": 6,
   "metadata": {},
   "outputs": [
    {
     "data": {
      "text/plain": [
       "((350, 207, 3072), (75, 207, 3072), (350,), (75,))"
      ]
     },
     "execution_count": 6,
     "metadata": {},
     "output_type": "execute_result"
    }
   ],
   "source": [
    "ssp_train.shape, ssp_test.shape, y_train.shape, y_test.shape"
   ]
  },
  {
   "cell_type": "code",
   "execution_count": null,
   "metadata": {},
   "outputs": [],
   "source": [
    "# Remove columns from 3072 columns with variance < 0.5\n",
    "\n"
   ]
  }
 ],
 "metadata": {
  "kernelspec": {
   "display_name": "base",
   "language": "python",
   "name": "python3"
  },
  "language_info": {
   "codemirror_mode": {
    "name": "ipython",
    "version": 3
   },
   "file_extension": ".py",
   "mimetype": "text/x-python",
   "name": "python",
   "nbconvert_exporter": "python",
   "pygments_lexer": "ipython3",
   "version": "3.11.7"
  }
 },
 "nbformat": 4,
 "nbformat_minor": 2
}
