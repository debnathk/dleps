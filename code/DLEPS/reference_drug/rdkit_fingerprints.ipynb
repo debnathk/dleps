{
 "cells": [
  {
   "cell_type": "markdown",
   "metadata": {},
   "source": [
    "# Calculating Pubchem Fingerprints:\n",
    "- For Reference drugs\n",
    "- For Training drugs"
   ]
  },
  {
   "cell_type": "code",
   "execution_count": 17,
   "metadata": {},
   "outputs": [],
   "source": [
    "import seaborn as sns\n",
    "import pandas as pd\n",
    "import numpy as np\n",
    "import matplotlib.pyplot as plt \n",
    "from rdkit import Chem\n",
    "from rdkit import DataStructs\n",
    "from rdkit.ML.Cluster import Butina\n",
    "from rdkit.Chem import Draw\n",
    "from rdkit.Chem import rdFingerprintGenerator\n",
    "from rdkit.Chem.Draw import SimilarityMaps"
   ]
  },
  {
   "cell_type": "markdown",
   "metadata": {},
   "source": [
    "## Pubchem fingerprints calculation: Reference Drugs"
   ]
  },
  {
   "cell_type": "code",
   "execution_count": 20,
   "metadata": {},
   "outputs": [
    {
     "data": {
      "text/html": [
       "<div>\n",
       "<style scoped>\n",
       "    .dataframe tbody tr th:only-of-type {\n",
       "        vertical-align: middle;\n",
       "    }\n",
       "\n",
       "    .dataframe tbody tr th {\n",
       "        vertical-align: top;\n",
       "    }\n",
       "\n",
       "    .dataframe thead th {\n",
       "        text-align: right;\n",
       "    }\n",
       "</style>\n",
       "<table border=\"1\" class=\"dataframe\">\n",
       "  <thead>\n",
       "    <tr style=\"text-align: right;\">\n",
       "      <th></th>\n",
       "      <th>DRUG_NAME</th>\n",
       "      <th>canonical_SMILES</th>\n",
       "      <th>standardized_SMILES</th>\n",
       "    </tr>\n",
       "  </thead>\n",
       "  <tbody>\n",
       "    <tr>\n",
       "      <th>0</th>\n",
       "      <td>123138</td>\n",
       "      <td>C[CH2]</td>\n",
       "      <td>[CH2]C</td>\n",
       "    </tr>\n",
       "    <tr>\n",
       "      <th>1</th>\n",
       "      <td>123829</td>\n",
       "      <td>CC(C[Se]CC(=O)NCCS(=O)(=O)O)C1CCC2C1(C(CC3C2C(...</td>\n",
       "      <td>CC(C[Se]CC(=O)NCCS(=O)(=O)O)C1CCC2C3C(O)CC4CC(...</td>\n",
       "    </tr>\n",
       "    <tr>\n",
       "      <th>2</th>\n",
       "      <td>150412</td>\n",
       "      <td>CC(CO)(CO)NCC1=CC2=C(C=C1)C3=C(C=C2)C4=CC=CC=C...</td>\n",
       "      <td>CC(CO)(CO)NCc1ccc2c(ccc3c4ccccc4ccc23)c1</td>\n",
       "    </tr>\n",
       "    <tr>\n",
       "      <th>3</th>\n",
       "      <td>50869</td>\n",
       "      <td>C1=CC=C(C=C1)OCCCCCCNN</td>\n",
       "      <td>NNCCCCCCOc1ccccc1</td>\n",
       "    </tr>\n",
       "    <tr>\n",
       "      <th>4</th>\n",
       "      <td>615590</td>\n",
       "      <td>CNC(=O)CSC1=C(NC2=CC=CC=C21)C3=CC=CS3</td>\n",
       "      <td>CNC(=O)CSc1c(-c2cccs2)[nH]c2ccccc12</td>\n",
       "    </tr>\n",
       "    <tr>\n",
       "      <th>...</th>\n",
       "      <td>...</td>\n",
       "      <td>...</td>\n",
       "      <td>...</td>\n",
       "    </tr>\n",
       "    <tr>\n",
       "      <th>202</th>\n",
       "      <td>Wee1 Inhibitor</td>\n",
       "      <td>C1=CC=C(C(=C1)C2=CC3=C(C4=C(N3)C=CC(=C4)O)C5=C...</td>\n",
       "      <td>O=C1NC(=O)c2c1c(-c1ccccc1Cl)cc1[nH]c3ccc(O)cc3c21</td>\n",
       "    </tr>\n",
       "    <tr>\n",
       "      <th>203</th>\n",
       "      <td>Wnt-C59</td>\n",
       "      <td>CC1=NC=CC(=C1)C2=CC=C(C=C2)CC(=O)NC3=CC=C(C=C3...</td>\n",
       "      <td>Cc1cc(-c2ccc(CC(=O)Nc3ccc(-c4cccnc4)cc3)cc2)ccn1</td>\n",
       "    </tr>\n",
       "    <tr>\n",
       "      <th>204</th>\n",
       "      <td>XAV939</td>\n",
       "      <td>C1CSCC2=C1N=C(NC2=O)C3=CC=C(C=C3)C(F)(F)F</td>\n",
       "      <td>O=c1[nH]c(-c2ccc(C(F)(F)F)cc2)nc2c1CSCC2</td>\n",
       "    </tr>\n",
       "    <tr>\n",
       "      <th>205</th>\n",
       "      <td>ZM447439</td>\n",
       "      <td>COC1=C(C=C2C(=C1)C(=NC=N2)NC3=CC=C(C=C3)NC(=O)...</td>\n",
       "      <td>COc1cc2c(Nc3ccc(NC(=O)c4ccccc4)cc3)ncnc2cc1OCC...</td>\n",
       "    </tr>\n",
       "    <tr>\n",
       "      <th>206</th>\n",
       "      <td>Zoledronate</td>\n",
       "      <td>C1=CN(C=N1)CC(O)(P(=O)(O)O)P(=O)(O)O</td>\n",
       "      <td>O=P(O)(O)C(O)(Cn1ccnc1)P(=O)(O)O</td>\n",
       "    </tr>\n",
       "  </tbody>\n",
       "</table>\n",
       "<p>207 rows × 3 columns</p>\n",
       "</div>"
      ],
      "text/plain": [
       "          DRUG_NAME                                   canonical_SMILES  \\\n",
       "0            123138                                             C[CH2]   \n",
       "1            123829  CC(C[Se]CC(=O)NCCS(=O)(=O)O)C1CCC2C1(C(CC3C2C(...   \n",
       "2            150412  CC(CO)(CO)NCC1=CC2=C(C=C1)C3=C(C=C2)C4=CC=CC=C...   \n",
       "3             50869                             C1=CC=C(C=C1)OCCCCCCNN   \n",
       "4            615590              CNC(=O)CSC1=C(NC2=CC=CC=C21)C3=CC=CS3   \n",
       "..              ...                                                ...   \n",
       "202  Wee1 Inhibitor  C1=CC=C(C(=C1)C2=CC3=C(C4=C(N3)C=CC(=C4)O)C5=C...   \n",
       "203         Wnt-C59  CC1=NC=CC(=C1)C2=CC=C(C=C2)CC(=O)NC3=CC=C(C=C3...   \n",
       "204          XAV939          C1CSCC2=C1N=C(NC2=O)C3=CC=C(C=C3)C(F)(F)F   \n",
       "205        ZM447439  COC1=C(C=C2C(=C1)C(=NC=N2)NC3=CC=C(C=C3)NC(=O)...   \n",
       "206     Zoledronate               C1=CN(C=N1)CC(O)(P(=O)(O)O)P(=O)(O)O   \n",
       "\n",
       "                                   standardized_SMILES  \n",
       "0                                               [CH2]C  \n",
       "1    CC(C[Se]CC(=O)NCCS(=O)(=O)O)C1CCC2C3C(O)CC4CC(...  \n",
       "2             CC(CO)(CO)NCc1ccc2c(ccc3c4ccccc4ccc23)c1  \n",
       "3                                    NNCCCCCCOc1ccccc1  \n",
       "4                  CNC(=O)CSc1c(-c2cccs2)[nH]c2ccccc12  \n",
       "..                                                 ...  \n",
       "202  O=C1NC(=O)c2c1c(-c1ccccc1Cl)cc1[nH]c3ccc(O)cc3c21  \n",
       "203   Cc1cc(-c2ccc(CC(=O)Nc3ccc(-c4cccnc4)cc3)cc2)ccn1  \n",
       "204           O=c1[nH]c(-c2ccc(C(F)(F)F)cc2)nc2c1CSCC2  \n",
       "205  COc1cc2c(Nc3ccc(NC(=O)c4ccccc4)cc3)ncnc2cc1OCC...  \n",
       "206                   O=P(O)(O)C(O)(Cn1ccnc1)P(=O)(O)O  \n",
       "\n",
       "[207 rows x 3 columns]"
      ]
     },
     "execution_count": 20,
     "metadata": {},
     "output_type": "execute_result"
    }
   ],
   "source": [
    "df_ref = pd.read_csv('gdsc_drugs+SMILES.csv')\n",
    "df_ref"
   ]
  },
  {
   "cell_type": "code",
   "execution_count": 21,
   "metadata": {},
   "outputs": [],
   "source": [
    "molecules_ref = []\n",
    "for _, smiles in df_ref[[ \"standardized_SMILES\"]].itertuples():\n",
    "    molecules_ref.append((Chem.MolFromSmiles(smiles)))"
   ]
  },
  {
   "cell_type": "code",
   "execution_count": 54,
   "metadata": {},
   "outputs": [],
   "source": [
    "# Creating fingerprints for all molecules\n",
    "\n",
    "rdkit_gen = rdFingerprintGenerator.GetRDKitFPGenerator(maxPath=7, fpSize=3072)\n",
    "fgrps_ref = [rdkit_gen.GetFingerprint(mol) for mol in molecules_ref]"
   ]
  },
  {
   "cell_type": "code",
   "execution_count": 55,
   "metadata": {},
   "outputs": [
    {
     "data": {
      "text/plain": [
       "(207, 3072)"
      ]
     },
     "execution_count": 55,
     "metadata": {},
     "output_type": "execute_result"
    }
   ],
   "source": [
    "np.array(fgrps_ref).shape"
   ]
  },
  {
   "cell_type": "code",
   "execution_count": 23,
   "metadata": {},
   "outputs": [
    {
     "name": "stdout",
     "output_type": "stream",
     "text": [
      "Number of fingerprints: 207\n"
     ]
    }
   ],
   "source": [
    "# Calculating number of fingerprints\n",
    "nfgrps_ref = len(fgrps_ref)\n",
    "print(\"Number of fingerprints:\", nfgrps_ref)"
   ]
  },
  {
   "cell_type": "markdown",
   "metadata": {},
   "source": [
    "## Pubchem fingerprints calculation: Training Drugs"
   ]
  },
  {
   "cell_type": "code",
   "execution_count": 5,
   "metadata": {},
   "outputs": [
    {
     "name": "stdout",
     "output_type": "stream",
     "text": [
      "(425, 2)\n"
     ]
    },
    {
     "data": {
      "text/html": [
       "<div>\n",
       "<style scoped>\n",
       "    .dataframe tbody tr th:only-of-type {\n",
       "        vertical-align: middle;\n",
       "    }\n",
       "\n",
       "    .dataframe tbody tr th {\n",
       "        vertical-align: top;\n",
       "    }\n",
       "\n",
       "    .dataframe thead th {\n",
       "        text-align: right;\n",
       "    }\n",
       "</style>\n",
       "<table border=\"1\" class=\"dataframe\">\n",
       "  <thead>\n",
       "    <tr style=\"text-align: right;\">\n",
       "      <th></th>\n",
       "      <th>drug_name</th>\n",
       "      <th>standardized_SMILES</th>\n",
       "    </tr>\n",
       "  </thead>\n",
       "  <tbody>\n",
       "    <tr>\n",
       "      <th>0</th>\n",
       "      <td>5-methoxytryptamine</td>\n",
       "      <td>COc1ccc2[nH]cc(CCN)c2c1</td>\n",
       "    </tr>\n",
       "    <tr>\n",
       "      <th>1</th>\n",
       "      <td>acalabrutinib</td>\n",
       "      <td>CC#CC(=O)N1CCC[C@H]1c1nc(-c2ccc(C(=O)Nc3ccccn3...</td>\n",
       "    </tr>\n",
       "    <tr>\n",
       "      <th>2</th>\n",
       "      <td>acemetacin</td>\n",
       "      <td>COc1ccc2c(c1)c(CC(=O)OCC(=O)O)c(C)n2C(=O)c1ccc...</td>\n",
       "    </tr>\n",
       "    <tr>\n",
       "      <th>3</th>\n",
       "      <td>acipimox</td>\n",
       "      <td>Cc1cnc(C(=O)O)c[n+]1[O-]</td>\n",
       "    </tr>\n",
       "    <tr>\n",
       "      <th>4</th>\n",
       "      <td>adapalene</td>\n",
       "      <td>COc1ccc(-c2ccc3cc(C(=O)O)ccc3c2)cc1C12CC3CC(CC...</td>\n",
       "    </tr>\n",
       "  </tbody>\n",
       "</table>\n",
       "</div>"
      ],
      "text/plain": [
       "             drug_name                                standardized_SMILES\n",
       "0  5-methoxytryptamine                            COc1ccc2[nH]cc(CCN)c2c1\n",
       "1        acalabrutinib  CC#CC(=O)N1CCC[C@H]1c1nc(-c2ccc(C(=O)Nc3ccccn3...\n",
       "2           acemetacin  COc1ccc2c(c1)c(CC(=O)OCC(=O)O)c(C)n2C(=O)c1ccc...\n",
       "3             acipimox                           Cc1cnc(C(=O)O)c[n+]1[O-]\n",
       "4            adapalene  COc1ccc(-c2ccc3cc(C(=O)O)ccc3c2)cc1C12CC3CC(CC..."
      ]
     },
     "execution_count": 5,
     "metadata": {},
     "output_type": "execute_result"
    }
   ],
   "source": [
    "df_train = pd.read_csv('../../../data/gen_exp_drugs_st_SMILES.csv')\n",
    "print(df_train.shape)\n",
    "df_train.head()"
   ]
  },
  {
   "cell_type": "code",
   "execution_count": 24,
   "metadata": {},
   "outputs": [],
   "source": [
    "molecules_train = []\n",
    "for _, smiles in df_train[[ \"standardized_SMILES\"]].itertuples():\n",
    "    molecules_train.append((Chem.MolFromSmiles(smiles)))"
   ]
  },
  {
   "cell_type": "code",
   "execution_count": 52,
   "metadata": {},
   "outputs": [],
   "source": [
    "# Creating fingerprints for all molecules\n",
    "\n",
    "rdkit_gen = rdFingerprintGenerator.GetRDKitFPGenerator(maxPath=7, fpSize=3072)\n",
    "fgrps_train = [rdkit_gen.GetFingerprint(mol) for mol in molecules_train]"
   ]
  },
  {
   "cell_type": "code",
   "execution_count": 53,
   "metadata": {},
   "outputs": [
    {
     "data": {
      "text/plain": [
       "(425, 3072)"
      ]
     },
     "execution_count": 53,
     "metadata": {},
     "output_type": "execute_result"
    }
   ],
   "source": [
    "np.array(fgrps_train).shape"
   ]
  },
  {
   "cell_type": "code",
   "execution_count": 26,
   "metadata": {},
   "outputs": [
    {
     "name": "stdout",
     "output_type": "stream",
     "text": [
      "Number of fingerprints: 425\n"
     ]
    }
   ],
   "source": [
    "# Calculating number of fingerprints\n",
    "nfgrps_train = len(fgrps_train)\n",
    "print(\"Number of fingerprints:\", nfgrps_train)"
   ]
  },
  {
   "cell_type": "markdown",
   "metadata": {},
   "source": [
    "## Calculate bitwise similarity - Training drugs vs Reference drugs"
   ]
  },
  {
   "cell_type": "code",
   "execution_count": null,
   "metadata": {},
   "outputs": [],
   "source": []
  }
 ],
 "metadata": {
  "kernelspec": {
   "display_name": "base",
   "language": "python",
   "name": "python3"
  },
  "language_info": {
   "codemirror_mode": {
    "name": "ipython",
    "version": 3
   },
   "file_extension": ".py",
   "mimetype": "text/x-python",
   "name": "python",
   "nbconvert_exporter": "python",
   "pygments_lexer": "ipython3",
   "version": "3.11.5"
  }
 },
 "nbformat": 4,
 "nbformat_minor": 2
}
