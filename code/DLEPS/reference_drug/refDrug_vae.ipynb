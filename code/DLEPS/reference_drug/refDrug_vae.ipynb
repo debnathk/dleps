{
 "cells": [
  {
   "cell_type": "markdown",
   "metadata": {},
   "source": [
    "Setup"
   ]
  },
  {
   "cell_type": "code",
   "execution_count": 1,
   "metadata": {},
   "outputs": [
    {
     "name": "stderr",
     "output_type": "stream",
     "text": [
      "2024-02-02 23:32:02.396155: E external/local_xla/xla/stream_executor/cuda/cuda_dnn.cc:9261] Unable to register cuDNN factory: Attempting to register factory for plugin cuDNN when one has already been registered\n",
      "2024-02-02 23:32:02.396425: E external/local_xla/xla/stream_executor/cuda/cuda_fft.cc:607] Unable to register cuFFT factory: Attempting to register factory for plugin cuFFT when one has already been registered\n",
      "2024-02-02 23:32:02.636905: E external/local_xla/xla/stream_executor/cuda/cuda_blas.cc:1515] Unable to register cuBLAS factory: Attempting to register factory for plugin cuBLAS when one has already been registered\n",
      "2024-02-02 23:32:03.488083: I tensorflow/core/platform/cpu_feature_guard.cc:182] This TensorFlow binary is optimized to use available CPU instructions in performance-critical operations.\n",
      "To enable the following instructions: AVX2 FMA, in other operations, rebuild TensorFlow with the appropriate compiler flags.\n",
      "2024-02-02 23:32:17.434937: W tensorflow/compiler/tf2tensorrt/utils/py_utils.cc:38] TF-TRT Warning: Could not find TensorRT\n"
     ]
    }
   ],
   "source": [
    "import os\n",
    "\n",
    "os.environ[\"KERAS_BACKEND\"] = \"tensorflow\"\n",
    "\n",
    "import numpy as np\n",
    "import tensorflow as tf\n",
    "import keras\n",
    "from keras import layers"
   ]
  },
  {
   "cell_type": "markdown",
   "metadata": {},
   "source": [
    "Create a sampling layer"
   ]
  },
  {
   "cell_type": "code",
   "execution_count": 5,
   "metadata": {},
   "outputs": [],
   "source": [
    "class Sampling(layers.Layer):\n",
    "    \"\"\"Uses (z_mean, z_log_var) to sample z, the vector encoding a digit.\"\"\"\n",
    "\n",
    "    def call(self, inputs):\n",
    "        z_mean, z_log_var = inputs\n",
    "        batch = tf.shape(z_mean)[0]\n",
    "        dim = tf.shape(z_mean)[1]\n",
    "        epsilon = tf.random.normal(shape=(batch, dim))\n",
    "        return z_mean + tf.exp(0.5 * z_log_var) * epsilon"
   ]
  },
  {
   "cell_type": "markdown",
   "metadata": {},
   "source": [
    "Build the encoder"
   ]
  },
  {
   "cell_type": "code",
   "execution_count": 6,
   "metadata": {},
   "outputs": [
    {
     "name": "stdout",
     "output_type": "stream",
     "text": [
      "Model: \"encoder\"\n",
      "__________________________________________________________________________________________________\n",
      " Layer (type)                Output Shape                 Param #   Connected to                  \n",
      "==================================================================================================\n",
      " input_1 (InputLayer)        [(None, 28, 28, 1)]          0         []                            \n",
      "                                                                                                  \n",
      " conv2d (Conv2D)             (None, 14, 14, 32)           320       ['input_1[0][0]']             \n",
      "                                                                                                  \n",
      " conv2d_1 (Conv2D)           (None, 7, 7, 64)             18496     ['conv2d[0][0]']              \n",
      "                                                                                                  \n",
      " flatten (Flatten)           (None, 3136)                 0         ['conv2d_1[0][0]']            \n",
      "                                                                                                  \n",
      " dense (Dense)               (None, 16)                   50192     ['flatten[0][0]']             \n",
      "                                                                                                  \n",
      " z_mean (Dense)              (None, 2)                    34        ['dense[0][0]']               \n",
      "                                                                                                  \n",
      " z_log_var (Dense)           (None, 2)                    34        ['dense[0][0]']               \n",
      "                                                                                                  \n",
      " sampling (Sampling)         (None, 2)                    0         ['z_mean[0][0]',              \n",
      "                                                                     'z_log_var[0][0]']           \n",
      "                                                                                                  \n",
      "==================================================================================================\n",
      "Total params: 69076 (269.83 KB)\n",
      "Trainable params: 69076 (269.83 KB)\n",
      "Non-trainable params: 0 (0.00 Byte)\n",
      "__________________________________________________________________________________________________\n"
     ]
    }
   ],
   "source": [
    "latent_dim = 2\n",
    "\n",
    "encoder_inputs = keras.Input(shape=(28, 28, 1))\n",
    "x = layers.Conv2D(32, 3, activation=\"relu\", strides=2, padding=\"same\")(encoder_inputs)\n",
    "x = layers.Conv2D(64, 3, activation=\"relu\", strides=2, padding=\"same\")(x)\n",
    "x = layers.Flatten()(x)\n",
    "x = layers.Dense(16, activation=\"relu\")(x)\n",
    "z_mean = layers.Dense(latent_dim, name=\"z_mean\")(x)\n",
    "z_log_var = layers.Dense(latent_dim, name=\"z_log_var\")(x)\n",
    "z = Sampling()([z_mean, z_log_var])\n",
    "encoder = keras.Model(encoder_inputs, [z_mean, z_log_var, z], name=\"encoder\")\n",
    "encoder.summary()"
   ]
  },
  {
   "cell_type": "markdown",
   "metadata": {},
   "source": [
    "Build the decoder"
   ]
  },
  {
   "cell_type": "code",
   "execution_count": 7,
   "metadata": {},
   "outputs": [
    {
     "name": "stdout",
     "output_type": "stream",
     "text": [
      "Model: \"decoder\"\n",
      "_________________________________________________________________\n",
      " Layer (type)                Output Shape              Param #   \n",
      "=================================================================\n",
      " input_2 (InputLayer)        [(None, 2)]               0         \n",
      "                                                                 \n",
      " dense_1 (Dense)             (None, 3136)              9408      \n",
      "                                                                 \n",
      " reshape (Reshape)           (None, 7, 7, 64)          0         \n",
      "                                                                 \n",
      " conv2d_transpose (Conv2DTr  (None, 14, 14, 64)        36928     \n",
      " anspose)                                                        \n",
      "                                                                 \n",
      " conv2d_transpose_1 (Conv2D  (None, 28, 28, 32)        18464     \n",
      " Transpose)                                                      \n",
      "                                                                 \n",
      " conv2d_transpose_2 (Conv2D  (None, 28, 28, 1)         289       \n",
      " Transpose)                                                      \n",
      "                                                                 \n",
      "=================================================================\n",
      "Total params: 65089 (254.25 KB)\n",
      "Trainable params: 65089 (254.25 KB)\n",
      "Non-trainable params: 0 (0.00 Byte)\n",
      "_________________________________________________________________\n"
     ]
    }
   ],
   "source": [
    "latent_inputs = keras.Input(shape=(latent_dim,))\n",
    "x = layers.Dense(7 * 7 * 64, activation=\"relu\")(latent_inputs)\n",
    "x = layers.Reshape((7, 7, 64))(x)\n",
    "x = layers.Conv2DTranspose(64, 3, activation=\"relu\", strides=2, padding=\"same\")(x)\n",
    "x = layers.Conv2DTranspose(32, 3, activation=\"relu\", strides=2, padding=\"same\")(x)\n",
    "decoder_outputs = layers.Conv2DTranspose(1, 3, activation=\"sigmoid\", padding=\"same\")(x)\n",
    "decoder = keras.Model(latent_inputs, decoder_outputs, name=\"decoder\")\n",
    "decoder.summary()"
   ]
  },
  {
   "cell_type": "markdown",
   "metadata": {},
   "source": [
    "Define the VAE as a Model with a custom train_step"
   ]
  },
  {
   "cell_type": "code",
   "execution_count": 8,
   "metadata": {},
   "outputs": [],
   "source": [
    "class VAE(keras.Model):\n",
    "    def __init__(self, encoder, decoder, **kwargs):\n",
    "        super().__init__(**kwargs)\n",
    "        self.encoder = encoder\n",
    "        self.decoder = decoder\n",
    "        self.total_loss_tracker = keras.metrics.Mean(name=\"total_loss\")\n",
    "        self.reconstruction_loss_tracker = keras.metrics.Mean(\n",
    "            name=\"reconstruction_loss\"\n",
    "        )\n",
    "        self.kl_loss_tracker = keras.metrics.Mean(name=\"kl_loss\")\n",
    "\n",
    "    @property\n",
    "    def metrics(self):\n",
    "        return [\n",
    "            self.total_loss_tracker,\n",
    "            self.reconstruction_loss_tracker,\n",
    "            self.kl_loss_tracker,\n",
    "        ]\n",
    "\n",
    "    def train_step(self, data):\n",
    "        with tf.GradientTape() as tape:\n",
    "            z_mean, z_log_var, z = self.encoder(data)\n",
    "            reconstruction = self.decoder(z)\n",
    "            reconstruction_loss = tf.reduce_mean(\n",
    "                tf.reduce_sum(\n",
    "                    keras.losses.binary_crossentropy(data, reconstruction),\n",
    "                    axis=(1, 2),\n",
    "                )\n",
    "            )\n",
    "            kl_loss = -0.5 * (1 + z_log_var - tf.square(z_mean) - tf.exp(z_log_var))\n",
    "            kl_loss = tf.reduce_mean(tf.reduce_sum(kl_loss, axis=1))\n",
    "            total_loss = reconstruction_loss + kl_loss\n",
    "        grads = tape.gradient(total_loss, self.trainable_weights)\n",
    "        self.optimizer.apply_gradients(zip(grads, self.trainable_weights))\n",
    "        self.total_loss_tracker.update_state(total_loss)\n",
    "        self.reconstruction_loss_tracker.update_state(reconstruction_loss)\n",
    "        self.kl_loss_tracker.update_state(kl_loss)\n",
    "        return {\n",
    "            \"loss\": self.total_loss_tracker.result(),\n",
    "            \"reconstruction_loss\": self.reconstruction_loss_tracker.result(),\n",
    "            \"kl_loss\": self.kl_loss_tracker.result(),\n",
    "        }"
   ]
  },
  {
   "cell_type": "markdown",
   "metadata": {},
   "source": [
    "Train the VAE"
   ]
  },
  {
   "cell_type": "code",
   "execution_count": 9,
   "metadata": {},
   "outputs": [
    {
     "name": "stdout",
     "output_type": "stream",
     "text": [
      "Downloading data from https://storage.googleapis.com/tensorflow/tf-keras-datasets/mnist.npz\n",
      "11490434/11490434 [==============================] - 0s 0us/step\n"
     ]
    },
    {
     "name": "stdout",
     "output_type": "stream",
     "text": [
      "Epoch 1/30\n",
      "547/547 [==============================] - 12s 18ms/step - loss: 250.5178 - reconstruction_loss: 201.1466 - kl_loss: 3.5667\n",
      "Epoch 2/30\n",
      "547/547 [==============================] - 9s 16ms/step - loss: 173.1578 - reconstruction_loss: 165.7738 - kl_loss: 4.7779\n",
      "Epoch 3/30\n",
      "547/547 [==============================] - 9s 16ms/step - loss: 164.0796 - reconstruction_loss: 157.4459 - kl_loss: 5.2759\n",
      "Epoch 4/30\n",
      "547/547 [==============================] - 9s 16ms/step - loss: 159.5322 - reconstruction_loss: 153.1537 - kl_loss: 5.5501\n",
      "Epoch 5/30\n",
      "547/547 [==============================] - 8s 15ms/step - loss: 157.1053 - reconstruction_loss: 150.6605 - kl_loss: 5.7046\n",
      "Epoch 6/30\n",
      "547/547 [==============================] - 9s 16ms/step - loss: 155.2641 - reconstruction_loss: 149.0461 - kl_loss: 5.8002\n",
      "Epoch 7/30\n",
      "547/547 [==============================] - 9s 16ms/step - loss: 153.8129 - reconstruction_loss: 147.8555 - kl_loss: 5.8612\n",
      "Epoch 8/30\n",
      "547/547 [==============================] - 9s 16ms/step - loss: 152.9246 - reconstruction_loss: 146.8066 - kl_loss: 5.9231\n",
      "Epoch 9/30\n",
      "547/547 [==============================] - 9s 16ms/step - loss: 151.8722 - reconstruction_loss: 145.9317 - kl_loss: 5.9429\n",
      "Epoch 10/30\n",
      "547/547 [==============================] - 8s 15ms/step - loss: 151.2320 - reconstruction_loss: 145.4065 - kl_loss: 5.9858\n",
      "Epoch 11/30\n",
      "547/547 [==============================] - 9s 16ms/step - loss: 150.6164 - reconstruction_loss: 144.6033 - kl_loss: 6.0436\n",
      "Epoch 12/30\n",
      "547/547 [==============================] - 8s 16ms/step - loss: 150.3175 - reconstruction_loss: 144.2356 - kl_loss: 6.0695\n",
      "Epoch 13/30\n",
      "547/547 [==============================] - 9s 16ms/step - loss: 149.6176 - reconstruction_loss: 143.6800 - kl_loss: 6.1113\n",
      "Epoch 14/30\n",
      "547/547 [==============================] - 9s 16ms/step - loss: 149.4552 - reconstruction_loss: 143.3858 - kl_loss: 6.1159\n",
      "Epoch 15/30\n",
      "547/547 [==============================] - 9s 16ms/step - loss: 148.8919 - reconstruction_loss: 142.8381 - kl_loss: 6.1571\n",
      "Epoch 16/30\n",
      "547/547 [==============================] - 9s 16ms/step - loss: 148.7751 - reconstruction_loss: 142.6744 - kl_loss: 6.1734\n",
      "Epoch 17/30\n",
      "547/547 [==============================] - 9s 16ms/step - loss: 148.2714 - reconstruction_loss: 142.3397 - kl_loss: 6.2001\n",
      "Epoch 18/30\n",
      "547/547 [==============================] - 8s 15ms/step - loss: 148.0699 - reconstruction_loss: 142.0831 - kl_loss: 6.2345\n",
      "Epoch 19/30\n",
      "547/547 [==============================] - 8s 15ms/step - loss: 147.8627 - reconstruction_loss: 141.8496 - kl_loss: 6.2182\n",
      "Epoch 20/30\n",
      "547/547 [==============================] - 8s 15ms/step - loss: 147.7766 - reconstruction_loss: 141.6135 - kl_loss: 6.2629\n",
      "Epoch 21/30\n",
      "547/547 [==============================] - 8s 15ms/step - loss: 147.2919 - reconstruction_loss: 141.3389 - kl_loss: 6.2727\n",
      "Epoch 22/30\n",
      "547/547 [==============================] - 8s 15ms/step - loss: 147.3666 - reconstruction_loss: 141.1828 - kl_loss: 6.2870\n",
      "Epoch 23/30\n",
      "547/547 [==============================] - 8s 15ms/step - loss: 147.2079 - reconstruction_loss: 141.0138 - kl_loss: 6.2936\n",
      "Epoch 24/30\n",
      "547/547 [==============================] - 8s 15ms/step - loss: 146.7730 - reconstruction_loss: 140.7719 - kl_loss: 6.2963\n",
      "Epoch 25/30\n",
      "547/547 [==============================] - 8s 16ms/step - loss: 147.3227 - reconstruction_loss: 140.6474 - kl_loss: 6.3328\n",
      "Epoch 26/30\n",
      "547/547 [==============================] - 8s 16ms/step - loss: 146.9024 - reconstruction_loss: 140.3932 - kl_loss: 6.3362\n",
      "Epoch 27/30\n",
      "547/547 [==============================] - 8s 15ms/step - loss: 146.5278 - reconstruction_loss: 140.3015 - kl_loss: 6.3489\n",
      "Epoch 28/30\n",
      "547/547 [==============================] - 8s 15ms/step - loss: 146.2204 - reconstruction_loss: 140.1806 - kl_loss: 6.3455\n",
      "Epoch 29/30\n",
      "547/547 [==============================] - 8s 15ms/step - loss: 146.1356 - reconstruction_loss: 140.0485 - kl_loss: 6.3542\n",
      "Epoch 30/30\n",
      "547/547 [==============================] - 8s 15ms/step - loss: 145.6847 - reconstruction_loss: 139.8939 - kl_loss: 6.3779\n"
     ]
    },
    {
     "data": {
      "text/plain": [
       "<keras.src.callbacks.History at 0x7f5a07de9850>"
      ]
     },
     "execution_count": 9,
     "metadata": {},
     "output_type": "execute_result"
    }
   ],
   "source": [
    "(x_train, _), (x_test, _) = keras.datasets.mnist.load_data()\n",
    "mnist_digits = np.concatenate([x_train, x_test], axis=0)\n",
    "mnist_digits = np.expand_dims(mnist_digits, -1).astype(\"float32\") / 255\n",
    "\n",
    "vae = VAE(encoder, decoder)\n",
    "vae.compile(optimizer=keras.optimizers.Adam())\n",
    "vae.fit(mnist_digits, epochs=30, batch_size=128)"
   ]
  },
  {
   "cell_type": "code",
   "execution_count": 10,
   "metadata": {},
   "outputs": [
    {
     "data": {
      "text/plain": [
       "'2.15.0'"
      ]
     },
     "execution_count": 10,
     "metadata": {},
     "output_type": "execute_result"
    }
   ],
   "source": [
    "import keras\n",
    "import tensorflow\n",
    "\n",
    "keras.__version__\n",
    "tensorflow.__version__"
   ]
  }
 ],
 "metadata": {
  "kernelspec": {
   "display_name": "dleps",
   "language": "python",
   "name": "python3"
  },
  "language_info": {
   "codemirror_mode": {
    "name": "ipython",
    "version": 3
   },
   "file_extension": ".py",
   "mimetype": "text/x-python",
   "name": "python",
   "nbconvert_exporter": "python",
   "pygments_lexer": "ipython3",
   "version": "3.11.5"
  }
 },
 "nbformat": 4,
 "nbformat_minor": 2
}
