{
 "cells": [
  {
   "cell_type": "markdown",
   "metadata": {},
   "source": [
    "Setup"
   ]
  },
  {
   "cell_type": "code",
   "execution_count": 1,
   "metadata": {},
   "outputs": [
    {
     "name": "stderr",
     "output_type": "stream",
     "text": [
      "2024-02-12 05:05:53.661772: E external/local_xla/xla/stream_executor/cuda/cuda_dnn.cc:9261] Unable to register cuDNN factory: Attempting to register factory for plugin cuDNN when one has already been registered\n",
      "2024-02-12 05:05:53.663657: E external/local_xla/xla/stream_executor/cuda/cuda_fft.cc:607] Unable to register cuFFT factory: Attempting to register factory for plugin cuFFT when one has already been registered\n",
      "2024-02-12 05:05:53.917266: E external/local_xla/xla/stream_executor/cuda/cuda_blas.cc:1515] Unable to register cuBLAS factory: Attempting to register factory for plugin cuBLAS when one has already been registered\n",
      "2024-02-12 05:05:54.784788: I tensorflow/core/platform/cpu_feature_guard.cc:182] This TensorFlow binary is optimized to use available CPU instructions in performance-critical operations.\n",
      "To enable the following instructions: AVX2 FMA, in other operations, rebuild TensorFlow with the appropriate compiler flags.\n",
      "2024-02-12 05:06:07.157865: W tensorflow/compiler/tf2tensorrt/utils/py_utils.cc:38] TF-TRT Warning: Could not find TensorRT\n"
     ]
    }
   ],
   "source": [
    "import os\n",
    "\n",
    "os.environ[\"KERAS_BACKEND\"] = \"tensorflow\"\n",
    "\n",
    "import numpy as np\n",
    "import tensorflow as tf\n",
    "import keras\n",
    "from keras import layers"
   ]
  },
  {
   "cell_type": "code",
   "execution_count": 2,
   "metadata": {},
   "outputs": [
    {
     "name": "stdout",
     "output_type": "stream",
     "text": [
      "(4000, 207, 3072)\n",
      "(1000, 207, 3072)\n"
     ]
    }
   ],
   "source": [
    "# Load dataset\n",
    "root = \"/lustre/home/debnathk/dleps/code/DLEPS/reference_drug/\"\n",
    "import h5py\n",
    "\n",
    "h5f = h5py.File(root + 'ssp_data_train.h5', 'r')\n",
    "ssp_train = h5f['data'][:]\n",
    "h5f = h5py.File(root + 'ssp_data_test.h5', 'r')\n",
    "ssp_test = h5f['data'][:]\n",
    "\n",
    "print(ssp_train.shape)\n",
    "print(ssp_test.shape)"
   ]
  },
  {
   "cell_type": "code",
   "execution_count": 17,
   "metadata": {},
   "outputs": [
    {
     "data": {
      "text/plain": [
       "(array([1.314e+03, 1.688e+03, 8.480e+02, 1.380e+02, 6.000e+00, 3.000e+00,\n",
       "        1.000e+00, 0.000e+00, 1.000e+00, 1.000e+00]),\n",
       " array([0.30925, 0.34085, 0.37245, 0.40405, 0.43565, 0.46725, 0.49885,\n",
       "        0.53045, 0.56205, 0.59365, 0.62525]),\n",
       " <BarContainer object of 10 artists>)"
      ]
     },
     "execution_count": 17,
     "metadata": {},
     "output_type": "execute_result"
    },
    {
     "data": {
      "image/png": "[encoded data removed]",
      "text/plain": [
       "<Figure size 640x480 with 1 Axes>"
      ]
     },
     "metadata": {},
     "output_type": "display_data"
    }
   ],
   "source": [
    "plt.hist(ssp_train[:, 100, :].sum(axis=1) / 4000)\n"
   ]
  },
  {
   "cell_type": "markdown",
   "metadata": {},
   "source": [
    "Create a sampling layer"
   ]
  },
  {
   "cell_type": "code",
   "execution_count": 3,
   "metadata": {},
   "outputs": [],
   "source": [
    "class Sampling(layers.Layer):\n",
    "    \"\"\"Uses (z_mean, z_log_var) to sample z, the vector encoding a digit.\"\"\"\n",
    "\n",
    "    def call(self, inputs):\n",
    "        z_mean, z_log_var = inputs\n",
    "        batch = tf.shape(z_mean)[0]\n",
    "        dim = tf.shape(z_mean)[1]\n",
    "        epsilon = tf.random.normal(shape=(batch, dim))\n",
    "        return z_mean + tf.exp(0.5 * z_log_var) * epsilon"
   ]
  },
  {
   "cell_type": "markdown",
   "metadata": {},
   "source": [
    "Build the encoder"
   ]
  },
  {
   "cell_type": "code",
   "execution_count": 4,
   "metadata": {},
   "outputs": [
    {
     "name": "stdout",
     "output_type": "stream",
     "text": [
      "Model: \"encoder\"\n",
      "__________________________________________________________________________________________________\n",
      " Layer (type)                Output Shape                 Param #   Connected to                  \n",
      "==================================================================================================\n",
      " input_1 (InputLayer)        [(None, 207, 3072)]          0         []                            \n",
      "                                                                                                  \n",
      " conv1d (Conv1D)             (None, 104, 32)              294944    ['input_1[0][0]']             \n",
      "                                                                                                  \n",
      " conv1d_1 (Conv1D)           (None, 52, 64)               6208      ['conv1d[0][0]']              \n",
      "                                                                                                  \n",
      " flatten (Flatten)           (None, 3328)                 0         ['conv1d_1[0][0]']            \n",
      "                                                                                                  \n",
      " dense (Dense)               (None, 16)                   53264     ['flatten[0][0]']             \n",
      "                                                                                                  \n",
      " z_mean (Dense)              (None, 56)                   952       ['dense[0][0]']               \n",
      "                                                                                                  \n",
      " z_log_var (Dense)           (None, 56)                   952       ['dense[0][0]']               \n",
      "                                                                                                  \n",
      " sampling (Sampling)         (None, 56)                   0         ['z_mean[0][0]',              \n",
      "                                                                     'z_log_var[0][0]']           \n",
      "                                                                                                  \n",
      "==================================================================================================\n",
      "Total params: 356320 (1.36 MB)\n",
      "Trainable params: 356320 (1.36 MB)\n",
      "Non-trainable params: 0 (0.00 Byte)\n",
      "__________________________________________________________________________________________________\n"
     ]
    }
   ],
   "source": [
    "latent_dim = 56\n",
    "\n",
    "encoder_inputs = keras.Input(shape=(207, 3072))\n",
    "# Add dense layer\n",
    "x = layers.Conv1D(32, 3, activation=\"relu\", strides=2, padding=\"same\")(encoder_inputs)\n",
    "x = layers.Conv1D(64, 3, activation=\"relu\", strides=2, padding=\"same\")(x)\n",
    "x = layers.Flatten()(x)\n",
    "x = layers.Dense(16, activation=\"relu\")(x)\n",
    "z_mean = layers.Dense(latent_dim, name=\"z_mean\")(x)\n",
    "z_log_var = layers.Dense(latent_dim, name=\"z_log_var\")(x)\n",
    "z = Sampling()([z_mean, z_log_var])\n",
    "encoder = keras.Model(encoder_inputs, [z_mean, z_log_var, z], name=\"encoder\")\n",
    "encoder.summary()"
   ]
  },
  {
   "cell_type": "markdown",
   "metadata": {},
   "source": [
    "Build the decoder"
   ]
  },
  {
   "cell_type": "code",
   "execution_count": 5,
   "metadata": {},
   "outputs": [
    {
     "name": "stdout",
     "output_type": "stream",
     "text": [
      "Model: \"decoder\"\n",
      "_________________________________________________________________\n",
      " Layer (type)                Output Shape              Param #   \n",
      "=================================================================\n",
      " input_2 (InputLayer)        [(None, 56)]              0         \n",
      "                                                                 \n",
      " dense_1 (Dense)             (None, 16)                912       \n",
      "                                                                 \n",
      " reshape (Reshape)           (None, 1, 16)             0         \n",
      "                                                                 \n",
      " conv1d_transpose (Conv1DTr  (None, 2, 64)             3136      \n",
      " anspose)                                                        \n",
      "                                                                 \n",
      " conv1d_transpose_1 (Conv1D  (None, 4, 32)             6176      \n",
      " Transpose)                                                      \n",
      "                                                                 \n",
      " flatten_1 (Flatten)         (None, 128)               0         \n",
      "                                                                 \n",
      " dense_2 (Dense)             (None, 635904)            82031616  \n",
      "                                                                 \n",
      " reshape_1 (Reshape)         (None, 207, 3072)         0         \n",
      "                                                                 \n",
      "=================================================================\n",
      "Total params: 82041840 (312.96 MB)\n",
      "Trainable params: 82041840 (312.96 MB)\n",
      "Non-trainable params: 0 (0.00 Byte)\n",
      "_________________________________________________________________\n"
     ]
    }
   ],
   "source": [
    "# Decoder\n",
    "latent_inputs = keras.Input(shape=(latent_dim,))\n",
    "x = layers.Dense(16, activation=\"relu\")(latent_inputs)\n",
    "x = layers.Reshape((1, 16))(x)\n",
    "x = layers.Conv1DTranspose(64, 3, activation=\"relu\", strides=2, padding=\"same\")(x)\n",
    "x = layers.Conv1DTranspose(32, 3, activation=\"relu\", strides=2, padding=\"same\")(x)\n",
    "x = layers.Flatten()(x)\n",
    "decoder_outputs = layers.Dense(207 * 3072, activation=\"sigmoid\")(x)\n",
    "decoder_outputs = layers.Reshape((207, 3072))(decoder_outputs)\n",
    "decoder = keras.Model(latent_inputs, decoder_outputs, name=\"decoder\")\n",
    "\n",
    "decoder.summary()\n"
   ]
  },
  {
   "cell_type": "markdown",
   "metadata": {},
   "source": [
    "Define the VAE as a Model with a custom train_step"
   ]
  },
  {
   "cell_type": "code",
   "execution_count": 6,
   "metadata": {},
   "outputs": [],
   "source": [
    "import tensorflow as tf\n",
    "from tensorflow.keras import layers, models\n",
    "\n",
    "class VAE(models.Model):\n",
    "    def __init__(self, encoder, decoder, **kwargs):\n",
    "        super(VAE, self).__init__(**kwargs)\n",
    "        self.encoder = encoder\n",
    "        self.decoder = decoder\n",
    "        self.total_loss_tracker = tf.keras.metrics.Mean(name=\"total_loss\")\n",
    "        self.reconstruction_loss_tracker = tf.keras.metrics.Mean(name=\"reconstruction_loss\")\n",
    "        self.kl_loss_tracker = tf.keras.metrics.Mean(name=\"kl_loss\")\n",
    "\n",
    "    def train_step(self, data):\n",
    "        with tf.GradientTape() as tape:\n",
    "            z_mean, z_log_var, z = self.encoder(data)\n",
    "            reconstruction = self.decoder(z)\n",
    "            reconstruction_loss = tf.reduce_mean(tf.keras.losses.binary_crossentropy(data, reconstruction))\n",
    "            kl_loss = -0.5 * tf.reduce_mean(1 + z_log_var - tf.square(z_mean) - tf.exp(z_log_var))\n",
    "            total_loss = reconstruction_loss + kl_loss\n",
    "\n",
    "        grads = tape.gradient(total_loss, self.trainable_weights)\n",
    "        self.optimizer.apply_gradients(zip(grads, self.trainable_weights))\n",
    "\n",
    "        self.total_loss_tracker.update_state(total_loss)\n",
    "        self.reconstruction_loss_tracker.update_state(reconstruction_loss)\n",
    "        self.kl_loss_tracker.update_state(kl_loss)\n",
    "\n",
    "        return {\n",
    "            \"loss\": self.total_loss_tracker.result(),\n",
    "            \"reconstruction_loss\": self.reconstruction_loss_tracker.result(),\n",
    "            \"kl_loss\": self.kl_loss_tracker.result(),\n",
    "        }\n",
    "\n",
    "# Instantiate the VAE model\n",
    "vae = VAE(encoder=encoder, decoder=decoder)\n",
    "\n",
    "# Compile the model\n",
    "vae.compile(optimizer=tf.keras.optimizers.Adam())\n",
    "num_epochs, batch_size = 100, 50\n"
   ]
  },
  {
   "cell_type": "code",
   "execution_count": 7,
   "metadata": {},
   "outputs": [
    {
     "name": "stderr",
     "output_type": "stream",
     "text": [
      "2024-02-12 05:07:42.806201: W external/local_tsl/tsl/framework/cpu_allocator_impl.cc:83] Allocation of 20348928000 exceeds 10% of free system memory.\n"
     ]
    },
    {
     "name": "stdout",
     "output_type": "stream",
     "text": [
      "Epoch 1/100\n",
      "80/80 [==============================] - 52s 616ms/step - loss: 0.6544 - reconstruction_loss: 0.5973 - kl_loss: 6.6081e-04\n",
      "Epoch 2/100\n",
      "80/80 [==============================] - 49s 616ms/step - loss: 0.5258 - reconstruction_loss: 0.5275 - kl_loss: 9.8403e-05\n",
      "Epoch 3/100\n",
      "80/80 [==============================] - 49s 611ms/step - loss: 0.5294 - reconstruction_loss: 0.5265 - kl_loss: 3.9697e-05\n",
      "Epoch 4/100\n",
      "80/80 [==============================] - 48s 601ms/step - loss: 0.5242 - reconstruction_loss: 0.5251 - kl_loss: 2.9989e-05\n",
      "Epoch 5/100\n",
      "80/80 [==============================] - 48s 604ms/step - loss: 0.5236 - reconstruction_loss: 0.5245 - kl_loss: 1.8842e-05\n",
      "Epoch 6/100\n",
      "80/80 [==============================] - 48s 597ms/step - loss: 0.5200 - reconstruction_loss: 0.5231 - kl_loss: 1.3533e-05\n",
      "Epoch 7/100\n",
      "80/80 [==============================] - 46s 578ms/step - loss: 0.5257 - reconstruction_loss: 0.5232 - kl_loss: 9.0585e-06\n",
      "Epoch 8/100\n",
      "80/80 [==============================] - 47s 587ms/step - loss: 0.5252 - reconstruction_loss: 0.5233 - kl_loss: 8.7195e-06\n",
      "Epoch 9/100\n",
      "80/80 [==============================] - 46s 573ms/step - loss: 0.5223 - reconstruction_loss: 0.5225 - kl_loss: 7.0651e-06\n",
      "Epoch 10/100\n",
      "80/80 [==============================] - 44s 552ms/step - loss: 0.5276 - reconstruction_loss: 0.5235 - kl_loss: 7.3784e-06\n",
      "Epoch 11/100\n",
      "80/80 [==============================] - 46s 581ms/step - loss: 0.5201 - reconstruction_loss: 0.5226 - kl_loss: 7.0085e-06\n",
      "Epoch 12/100\n",
      "80/80 [==============================] - 46s 574ms/step - loss: 0.5229 - reconstruction_loss: 0.5224 - kl_loss: 4.9216e-06\n",
      "Epoch 13/100\n",
      "80/80 [==============================] - 44s 549ms/step - loss: 0.5275 - reconstruction_loss: 0.5225 - kl_loss: 4.2898e-06\n",
      "Epoch 14/100\n",
      "80/80 [==============================] - 45s 560ms/step - loss: 0.5231 - reconstruction_loss: 0.5222 - kl_loss: 5.3756e-06\n",
      "Epoch 15/100\n",
      "80/80 [==============================] - 47s 582ms/step - loss: 0.5239 - reconstruction_loss: 0.5225 - kl_loss: 6.3243e-06\n",
      "Epoch 16/100\n",
      "80/80 [==============================] - 47s 583ms/step - loss: 0.5245 - reconstruction_loss: 0.5219 - kl_loss: 4.5748e-06\n",
      "Epoch 17/100\n",
      "80/80 [==============================] - 45s 567ms/step - loss: 0.5201 - reconstruction_loss: 0.5224 - kl_loss: 4.4096e-06\n",
      "Epoch 18/100\n",
      "80/80 [==============================] - 48s 599ms/step - loss: 0.5203 - reconstruction_loss: 0.5221 - kl_loss: 2.8491e-06\n",
      "Epoch 19/100\n",
      "80/80 [==============================] - 48s 600ms/step - loss: 0.5219 - reconstruction_loss: 0.5217 - kl_loss: 2.8350e-06\n",
      "Epoch 20/100\n",
      "80/80 [==============================] - 44s 554ms/step - loss: 0.5224 - reconstruction_loss: 0.5215 - kl_loss: 3.1634e-06\n",
      "Epoch 21/100\n",
      "80/80 [==============================] - 47s 590ms/step - loss: 0.5138 - reconstruction_loss: 0.5219 - kl_loss: 3.2466e-06\n",
      "Epoch 22/100\n",
      "80/80 [==============================] - 47s 590ms/step - loss: 0.5198 - reconstruction_loss: 0.5217 - kl_loss: 3.2317e-06\n",
      "Epoch 23/100\n",
      "80/80 [==============================] - 46s 569ms/step - loss: 0.5229 - reconstruction_loss: 0.5216 - kl_loss: 2.3520e-06\n",
      "Epoch 24/100\n",
      "80/80 [==============================] - 44s 549ms/step - loss: 0.5209 - reconstruction_loss: 0.5219 - kl_loss: 2.3351e-06\n",
      "Epoch 25/100\n",
      "80/80 [==============================] - 45s 566ms/step - loss: 0.5226 - reconstruction_loss: 0.5213 - kl_loss: 2.3842e-06\n",
      "Epoch 26/100\n",
      "80/80 [==============================] - 45s 559ms/step - loss: 0.5253 - reconstruction_loss: 0.5215 - kl_loss: 3.0371e-06\n",
      "Epoch 27/100\n",
      "80/80 [==============================] - 43s 541ms/step - loss: 0.5222 - reconstruction_loss: 0.5220 - kl_loss: 3.1612e-06\n",
      "Epoch 28/100\n",
      "80/80 [==============================] - 42s 529ms/step - loss: 0.5195 - reconstruction_loss: 0.5218 - kl_loss: 2.7333e-06\n",
      "Epoch 29/100\n",
      "80/80 [==============================] - 42s 522ms/step - loss: 0.5195 - reconstruction_loss: 0.5214 - kl_loss: 2.5921e-06\n",
      "Epoch 30/100\n",
      "80/80 [==============================] - 42s 522ms/step - loss: 0.5170 - reconstruction_loss: 0.5214 - kl_loss: 2.5000e-06\n",
      "Epoch 31/100\n",
      "80/80 [==============================] - 42s 522ms/step - loss: 0.5212 - reconstruction_loss: 0.5215 - kl_loss: 2.1458e-06\n",
      "Epoch 32/100\n",
      "80/80 [==============================] - 42s 523ms/step - loss: 0.5208 - reconstruction_loss: 0.5215 - kl_loss: 2.2134e-06\n",
      "Epoch 33/100\n",
      "80/80 [==============================] - 42s 524ms/step - loss: 0.5214 - reconstruction_loss: 0.5216 - kl_loss: 2.1032e-06\n",
      "Epoch 34/100\n",
      "80/80 [==============================] - 42s 523ms/step - loss: 0.5184 - reconstruction_loss: 0.5216 - kl_loss: 2.0197e-06\n",
      "Epoch 35/100\n",
      "80/80 [==============================] - 41s 518ms/step - loss: 0.5247 - reconstruction_loss: 0.5216 - kl_loss: 1.6006e-06\n",
      "Epoch 36/100\n",
      "80/80 [==============================] - 42s 522ms/step - loss: 0.5274 - reconstruction_loss: 0.5213 - kl_loss: 2.4655e-06\n",
      "Epoch 37/100\n",
      "80/80 [==============================] - 42s 529ms/step - loss: 0.5136 - reconstruction_loss: 0.5210 - kl_loss: 2.4677e-06\n",
      "Epoch 38/100\n",
      "80/80 [==============================] - 42s 529ms/step - loss: 0.5235 - reconstruction_loss: 0.5213 - kl_loss: 1.6088e-06\n",
      "Epoch 39/100\n",
      "80/80 [==============================] - 42s 526ms/step - loss: 0.5185 - reconstruction_loss: 0.5217 - kl_loss: 2.0825e-06\n",
      "Epoch 40/100\n",
      "80/80 [==============================] - 42s 522ms/step - loss: 0.5255 - reconstruction_loss: 0.5215 - kl_loss: 1.6343e-06\n",
      "Epoch 41/100\n",
      "80/80 [==============================] - 42s 522ms/step - loss: 0.5257 - reconstruction_loss: 0.5216 - kl_loss: 1.5173e-06\n",
      "Epoch 42/100\n",
      "80/80 [==============================] - 42s 523ms/step - loss: 0.5203 - reconstruction_loss: 0.5216 - kl_loss: 1.5511e-06\n",
      "Epoch 43/100\n",
      "80/80 [==============================] - 42s 525ms/step - loss: 0.5221 - reconstruction_loss: 0.5215 - kl_loss: 1.7358e-06\n",
      "Epoch 44/100\n",
      "80/80 [==============================] - 42s 526ms/step - loss: 0.5201 - reconstruction_loss: 0.5216 - kl_loss: 2.2575e-06\n",
      "Epoch 45/100\n",
      "80/80 [==============================] - 42s 526ms/step - loss: 0.5208 - reconstruction_loss: 0.5214 - kl_loss: 2.5212e-06\n",
      "Epoch 46/100\n",
      "80/80 [==============================] - 42s 524ms/step - loss: 0.5204 - reconstruction_loss: 0.5218 - kl_loss: 4.0164e-06\n",
      "Epoch 47/100\n",
      "80/80 [==============================] - 42s 525ms/step - loss: 0.5239 - reconstruction_loss: 0.5215 - kl_loss: 1.9895e-06\n",
      "Epoch 48/100\n",
      "80/80 [==============================] - 42s 529ms/step - loss: 0.5215 - reconstruction_loss: 0.5214 - kl_loss: 1.8870e-06\n",
      "Epoch 49/100\n",
      "80/80 [==============================] - 42s 523ms/step - loss: 0.5170 - reconstruction_loss: 0.5215 - kl_loss: 2.8852e-06\n",
      "Epoch 50/100\n",
      "80/80 [==============================] - 42s 528ms/step - loss: 0.5165 - reconstruction_loss: 0.5213 - kl_loss: 1.2109e-06\n",
      "Epoch 51/100\n",
      "80/80 [==============================] - 42s 527ms/step - loss: 0.5230 - reconstruction_loss: 0.5214 - kl_loss: 1.4621e-06\n",
      "Epoch 52/100\n",
      "80/80 [==============================] - 42s 524ms/step - loss: 0.5238 - reconstruction_loss: 0.5212 - kl_loss: 1.2761e-06\n",
      "Epoch 53/100\n",
      "80/80 [==============================] - 42s 525ms/step - loss: 0.5207 - reconstruction_loss: 0.5212 - kl_loss: 2.3818e-06\n",
      "Epoch 54/100\n",
      "80/80 [==============================] - 42s 523ms/step - loss: 0.5271 - reconstruction_loss: 0.5215 - kl_loss: 1.9329e-06\n",
      "Epoch 55/100\n",
      "80/80 [==============================] - 42s 526ms/step - loss: 0.5233 - reconstruction_loss: 0.5213 - kl_loss: 1.8309e-06\n",
      "Epoch 56/100\n",
      "80/80 [==============================] - 42s 526ms/step - loss: 0.5230 - reconstruction_loss: 0.5214 - kl_loss: 2.5776e-06\n",
      "Epoch 57/100\n",
      "80/80 [==============================] - 42s 525ms/step - loss: 0.5197 - reconstruction_loss: 0.5214 - kl_loss: 2.1302e-06\n",
      "Epoch 58/100\n",
      "80/80 [==============================] - 42s 530ms/step - loss: 0.5245 - reconstruction_loss: 0.5212 - kl_loss: 1.8320e-06\n",
      "Epoch 59/100\n",
      "80/80 [==============================] - 42s 523ms/step - loss: 0.5267 - reconstruction_loss: 0.5213 - kl_loss: 1.4907e-06\n",
      "Epoch 60/100\n",
      "80/80 [==============================] - 42s 525ms/step - loss: 0.5164 - reconstruction_loss: 0.5213 - kl_loss: 2.0375e-06\n",
      "Epoch 61/100\n",
      "80/80 [==============================] - 42s 527ms/step - loss: 0.5196 - reconstruction_loss: 0.5212 - kl_loss: 1.7202e-06\n",
      "Epoch 62/100\n",
      "80/80 [==============================] - 42s 528ms/step - loss: 0.5220 - reconstruction_loss: 0.5211 - kl_loss: 1.8913e-06\n",
      "Epoch 63/100\n",
      "80/80 [==============================] - 42s 527ms/step - loss: 0.5188 - reconstruction_loss: 0.5210 - kl_loss: 2.7480e-06\n",
      "Epoch 64/100\n",
      "80/80 [==============================] - 42s 525ms/step - loss: 0.5215 - reconstruction_loss: 0.5215 - kl_loss: 2.5108e-06\n",
      "Epoch 65/100\n",
      "80/80 [==============================] - 42s 527ms/step - loss: 0.5168 - reconstruction_loss: 0.5212 - kl_loss: 1.6461e-06\n",
      "Epoch 66/100\n",
      "80/80 [==============================] - 42s 526ms/step - loss: 0.5195 - reconstruction_loss: 0.5214 - kl_loss: 1.3846e-06\n",
      "Epoch 67/100\n",
      "80/80 [==============================] - 42s 524ms/step - loss: 0.5207 - reconstruction_loss: 0.5214 - kl_loss: 1.2188e-06\n",
      "Epoch 68/100\n",
      "80/80 [==============================] - 42s 527ms/step - loss: 0.5279 - reconstruction_loss: 0.5213 - kl_loss: 1.6482e-06\n",
      "Epoch 69/100\n",
      "80/80 [==============================] - 42s 524ms/step - loss: 0.5221 - reconstruction_loss: 0.5214 - kl_loss: 1.4051e-06\n",
      "Epoch 70/100\n",
      "80/80 [==============================] - 42s 523ms/step - loss: 0.5188 - reconstruction_loss: 0.5211 - kl_loss: 1.4011e-06\n",
      "Epoch 71/100\n",
      "80/80 [==============================] - 42s 527ms/step - loss: 0.5224 - reconstruction_loss: 0.5212 - kl_loss: 1.2870e-06\n",
      "Epoch 72/100\n",
      "80/80 [==============================] - 42s 524ms/step - loss: 0.5189 - reconstruction_loss: 0.5210 - kl_loss: 1.2474e-06\n",
      "Epoch 73/100\n",
      "80/80 [==============================] - 42s 528ms/step - loss: 0.5187 - reconstruction_loss: 0.5214 - kl_loss: 2.3975e-06\n",
      "Epoch 74/100\n",
      "80/80 [==============================] - 42s 525ms/step - loss: 0.5250 - reconstruction_loss: 0.5213 - kl_loss: 1.7372e-06\n",
      "Epoch 75/100\n",
      "80/80 [==============================] - 42s 528ms/step - loss: 0.5216 - reconstruction_loss: 0.5212 - kl_loss: 1.6722e-06\n",
      "Epoch 76/100\n",
      "80/80 [==============================] - 42s 528ms/step - loss: 0.5229 - reconstruction_loss: 0.5211 - kl_loss: 1.0538e-06\n",
      "Epoch 77/100\n",
      "80/80 [==============================] - 42s 525ms/step - loss: 0.5208 - reconstruction_loss: 0.5212 - kl_loss: 1.5235e-06\n",
      "Epoch 78/100\n",
      "80/80 [==============================] - 42s 526ms/step - loss: 0.5198 - reconstruction_loss: 0.5211 - kl_loss: 1.3750e-06\n",
      "Epoch 79/100\n",
      "80/80 [==============================] - 42s 524ms/step - loss: 0.5202 - reconstruction_loss: 0.5213 - kl_loss: 1.9878e-06\n",
      "Epoch 80/100\n",
      "80/80 [==============================] - 42s 524ms/step - loss: 0.5246 - reconstruction_loss: 0.5210 - kl_loss: 1.2131e-06\n",
      "Epoch 81/100\n",
      "80/80 [==============================] - 42s 524ms/step - loss: 0.5224 - reconstruction_loss: 0.5211 - kl_loss: 1.6427e-06\n",
      "Epoch 82/100\n",
      "80/80 [==============================] - 42s 529ms/step - loss: 0.5221 - reconstruction_loss: 0.5213 - kl_loss: 1.6826e-06\n",
      "Epoch 83/100\n",
      "80/80 [==============================] - 42s 524ms/step - loss: 0.5166 - reconstruction_loss: 0.5211 - kl_loss: 1.3830e-06\n",
      "Epoch 84/100\n",
      "80/80 [==============================] - 42s 527ms/step - loss: 0.5252 - reconstruction_loss: 0.5210 - kl_loss: 1.6642e-06\n",
      "Epoch 85/100\n",
      "80/80 [==============================] - 42s 527ms/step - loss: 0.5193 - reconstruction_loss: 0.5211 - kl_loss: 1.8726e-06\n",
      "Epoch 86/100\n",
      "80/80 [==============================] - 42s 523ms/step - loss: 0.5222 - reconstruction_loss: 0.5210 - kl_loss: 1.7026e-06\n",
      "Epoch 87/100\n",
      "80/80 [==============================] - 42s 526ms/step - loss: 0.5172 - reconstruction_loss: 0.5211 - kl_loss: 1.8514e-06\n",
      "Epoch 88/100\n",
      "80/80 [==============================] - 42s 525ms/step - loss: 0.5194 - reconstruction_loss: 0.5212 - kl_loss: 1.5881e-06\n",
      "Epoch 89/100\n",
      "80/80 [==============================] - 42s 520ms/step - loss: 0.5193 - reconstruction_loss: 0.5210 - kl_loss: 1.5757e-06\n",
      "Epoch 90/100\n",
      "80/80 [==============================] - 42s 523ms/step - loss: 0.5250 - reconstruction_loss: 0.5210 - kl_loss: 2.3177e-06\n",
      "Epoch 91/100\n",
      "80/80 [==============================] - 43s 541ms/step - loss: 0.5193 - reconstruction_loss: 0.5211 - kl_loss: 1.4938e-06\n",
      "Epoch 92/100\n",
      "80/80 [==============================] - 42s 524ms/step - loss: 0.5219 - reconstruction_loss: 0.5210 - kl_loss: 2.3702e-06\n",
      "Epoch 93/100\n",
      "80/80 [==============================] - 42s 523ms/step - loss: 0.5205 - reconstruction_loss: 0.5211 - kl_loss: 1.3662e-06\n",
      "Epoch 94/100\n",
      "80/80 [==============================] - 42s 523ms/step - loss: 0.5265 - reconstruction_loss: 0.5210 - kl_loss: 1.5754e-06\n",
      "Epoch 95/100\n",
      "80/80 [==============================] - 42s 524ms/step - loss: 0.5197 - reconstruction_loss: 0.5211 - kl_loss: 1.3571e-06\n",
      "Epoch 96/100\n",
      "80/80 [==============================] - 42s 519ms/step - loss: 0.5235 - reconstruction_loss: 0.5210 - kl_loss: 1.4308e-06\n",
      "Epoch 97/100\n",
      "80/80 [==============================] - 42s 521ms/step - loss: 0.5208 - reconstruction_loss: 0.5212 - kl_loss: 2.2509e-06\n",
      "Epoch 98/100\n",
      "80/80 [==============================] - 42s 521ms/step - loss: 0.5222 - reconstruction_loss: 0.5210 - kl_loss: 1.2274e-06\n",
      "Epoch 99/100\n",
      "80/80 [==============================] - 42s 524ms/step - loss: 0.5248 - reconstruction_loss: 0.5211 - kl_loss: 1.8613e-06\n",
      "Epoch 100/100\n",
      "80/80 [==============================] - 42s 522ms/step - loss: 0.5242 - reconstruction_loss: 0.5209 - kl_loss: 2.3097e-06\n"
     ]
    },
    {
     "data": {
      "image/png": "[encoded data removed]",
      "text/plain": [
       "<Figure size 1000x500 with 1 Axes>"
      ]
     },
     "metadata": {},
     "output_type": "display_data"
    }
   ],
   "source": [
    "import matplotlib.pyplot as plt\n",
    "\n",
    "# Assuming you've already trained the VAE using the code you provided\n",
    "\n",
    "# Train the VAE model\n",
    "history = vae.fit(ssp_train, epochs=num_epochs, batch_size=batch_size)\n",
    "\n",
    "# Plot the losses over epochs\n",
    "def plot_losses(history):\n",
    "    loss = history.history['loss']\n",
    "    reconstruction_loss = history.history['reconstruction_loss']\n",
    "    kl_loss = history.history['kl_loss']\n",
    "\n",
    "    epochs = range(1, len(loss) + 1)\n",
    "\n",
    "    plt.figure(figsize=(10, 5))\n",
    "    plt.plot(epochs, loss, label='Total Loss')\n",
    "    plt.plot(epochs, reconstruction_loss, label='Reconstruction Loss')\n",
    "    plt.plot(epochs, kl_loss, label='KL Divergence Loss')\n",
    "\n",
    "    plt.title('Training Losses')\n",
    "    plt.xlabel('Epochs')\n",
    "    plt.ylabel('Loss')\n",
    "    plt.legend()\n",
    "    plt.show()\n",
    "\n",
    "# Plot the losses\n",
    "plot_losses(history)"
   ]
  },
  {
   "cell_type": "code",
   "execution_count": 8,
   "metadata": {},
   "outputs": [
    {
     "data": {
      "text/plain": [
       "'2.15.0'"
      ]
     },
     "execution_count": 8,
     "metadata": {},
     "output_type": "execute_result"
    }
   ],
   "source": [
    "import keras\n",
    "import tensorflow\n",
    "\n",
    "keras.__version__\n",
    "tensorflow.__version__"
   ]
  }
 ],
 "metadata": {
  "kernelspec": {
   "display_name": "dleps",
   "language": "python",
   "name": "python3"
  },
  "language_info": {
   "codemirror_mode": {
    "name": "ipython",
    "version": 3
   },
   "file_extension": ".py",
   "mimetype": "text/x-python",
   "name": "python",
   "nbconvert_exporter": "python",
   "pygments_lexer": "ipython3",
   "version": "3.11.5"
  }
 },
 "nbformat": 4,
 "nbformat_minor": 2
}
